{
 "cells": [
  {
   "cell_type": "markdown",
   "metadata": {},
   "source": [
    "#  _Modelos de Analítica Aplicados a los Negocios_"
   ]
  },
  {
   "cell_type": "markdown",
   "metadata": {},
   "source": [
    "<div align=\"center\"><h2>Carga de datasets y visualización de información</h2></div>"
   ]
  },
  {
   "cell_type": "markdown",
   "metadata": {},
   "source": [
    "<img src=\"img/logos.png\" >"
   ]
  },
  {
   "cell_type": "code",
   "execution_count": null,
   "metadata": {},
   "outputs": [],
   "source": []
  },
  {
   "cell_type": "markdown",
   "metadata": {
    "id": "o-llC1ykVGXO"
   },
   "source": [
    "# **Manejo de Pandas**\n",
    "\n",
    "<img src=\"img/logo_pandas.png\" width=\"400px\">\n",
    "La visualización de datos en Data Science no siempre es posible hacer en gráficas, en muchas ocasiones debedo a la gran cantidad de datos, la única forma es mostrar los datos crudos.\n",
    "\n",
    "\n",
    "<a href=\"https://pandas.pydata.org/\" target=\"_blank\">Página oficial de Pandas</a>"
   ]
  },
  {
   "cell_type": "code",
   "execution_count": null,
   "metadata": {},
   "outputs": [],
   "source": [
    "!pip install pandas"
   ]
  },
  {
   "cell_type": "markdown",
   "metadata": {
    "id": "3r41VdFZZfUv"
   },
   "source": [
    "## **Carga de librería**"
   ]
  },
  {
   "cell_type": "code",
   "execution_count": null,
   "metadata": {
    "id": "oEyDunA6ZlrY"
   },
   "outputs": [],
   "source": [
    "import numpy as np\n",
    "import pandas as pd"
   ]
  },
  {
   "cell_type": "markdown",
   "metadata": {
    "id": "_BvFGMkaZ0jk"
   },
   "source": [
    "## **Cargar archivos**"
   ]
  },
  {
   "cell_type": "code",
   "execution_count": null,
   "metadata": {},
   "outputs": [],
   "source": [
    "df_oro = pd.read_csv('DataSets/Datos_históricos_Futuros_oro.csv') \n",
    "df_oro"
   ]
  },
  {
   "cell_type": "code",
   "execution_count": null,
   "metadata": {},
   "outputs": [],
   "source": [
    "type(df_oro)"
   ]
  },
  {
   "cell_type": "code",
   "execution_count": null,
   "metadata": {
    "colab": {
     "base_uri": "https://localhost:8080/",
     "height": 419
    },
    "id": "b2peAtt_aR7f",
    "outputId": "e6f03d6d-c25f-4605-95bb-a3ffacf3c442"
   },
   "outputs": [],
   "source": [
    "df_oro = pd.read_excel('DataSets/Datos_históricos_Futuros_oro.xlsx') \n",
    "df_oro"
   ]
  },
  {
   "cell_type": "code",
   "execution_count": null,
   "metadata": {
    "colab": {
     "base_uri": "https://localhost:8080/",
     "height": 350
    },
    "id": "Ds6-mSXmeHkw",
    "outputId": "5c2b559c-e78f-46af-a8be-9bea2107f510"
   },
   "outputs": [],
   "source": [
    "import matplotlib.pyplot as plt\n",
    "\n",
    "y_ultimo = df_oro['Último'] # Extraer columna de un DF\n",
    "y_max = df_oro['Máximo']\n",
    "y_min = df_oro['Mínimo']\n",
    "\n",
    "plt.figure(figsize=(15,5))\n",
    "plt.plot(y_ultimo ,'-', label='Valor')\n",
    "plt.plot(y_max , '--',label='Max')\n",
    "plt.plot(y_min , '--', label='Min')\n",
    "plt.title('histórico del oro')\n",
    "plt.xlabel('Días de 2021')\n",
    "plt.ylabel('Pesos')\n",
    "plt.legend()\n",
    "plt.grid()\n",
    "plt.show()"
   ]
  },
  {
   "cell_type": "code",
   "execution_count": null,
   "metadata": {
    "colab": {
     "base_uri": "https://localhost:8080/",
     "height": 350
    },
    "id": "4nR0SOyUknAw",
    "outputId": "ed4ba2d9-1e86-4ad2-bb4f-8f58618d4484"
   },
   "outputs": [],
   "source": [
    "y_ultimo = list(df_oro['Último']) # Extraer columna de un DF\n",
    "y_max = list(df_oro['Máximo'])\n",
    "y_min = list(df_oro['Mínimo'])\n",
    "y_ultimo.reverse()\n",
    "y_max.reverse()\n",
    "y_min.reverse()\n",
    "plt.figure(figsize=(15,5))\n",
    "plt.plot(y_ultimo ,'-*', label='Valor')\n",
    "plt.plot(y_max , '--',label='Max')\n",
    "plt.plot(y_min , '--', label='Min')\n",
    "plt.title('histórico del oro')\n",
    "plt.xlabel('Días de 2021')\n",
    "plt.ylabel('Pesos')\n",
    "plt.legend()\n",
    "plt.grid()\n",
    "plt.show()"
   ]
  },
  {
   "cell_type": "code",
   "execution_count": null,
   "metadata": {
    "id": "TfPmb4neqim_"
   },
   "outputs": [],
   "source": []
  },
  {
   "cell_type": "code",
   "execution_count": null,
   "metadata": {},
   "outputs": [],
   "source": []
  },
  {
   "cell_type": "markdown",
   "metadata": {
    "id": "6OZzrqwkqlSh"
   },
   "source": [
    "## **Uso de LOC**\n",
    "Se usa para extraer segmentos del DF, utilizando los nombres de las columnas o filas."
   ]
  },
  {
   "cell_type": "code",
   "execution_count": null,
   "metadata": {
    "colab": {
     "base_uri": "https://localhost:8080/"
    },
    "id": "sNQGe-Ybqp6m",
    "outputId": "5f6c5d5d-66cf-4d82-cf3b-324a86deff49"
   },
   "outputs": [],
   "source": [
    "# Traer una sola columan con todas las fila\n",
    "df_oro.loc[    :    ,     'Último']"
   ]
  },
  {
   "cell_type": "code",
   "execution_count": null,
   "metadata": {},
   "outputs": [],
   "source": [
    "var = pd.DataFrame(df_oro.loc[    :    ,     'Último'])"
   ]
  },
  {
   "cell_type": "code",
   "execution_count": null,
   "metadata": {},
   "outputs": [],
   "source": [
    "var"
   ]
  },
  {
   "cell_type": "code",
   "execution_count": null,
   "metadata": {},
   "outputs": [],
   "source": [
    "df_oro.Último"
   ]
  },
  {
   "cell_type": "code",
   "execution_count": null,
   "metadata": {
    "colab": {
     "base_uri": "https://localhost:8080/",
     "height": 80
    },
    "id": "T9uUsXeZrTfn",
    "outputId": "81c22529-dcaf-42e3-979e-6e3e78e8b2d6"
   },
   "outputs": [],
   "source": [
    "# Traer una fila y todas las columna\n",
    "pd.DataFrame(df_oro.loc[3,:]).transpose()"
   ]
  },
  {
   "cell_type": "code",
   "execution_count": null,
   "metadata": {
    "colab": {
     "base_uri": "https://localhost:8080/",
     "height": 700
    },
    "id": "GksUnMI2r7JH",
    "outputId": "08a7c7b7-d6a2-4476-faab-d69e8628efde",
    "scrolled": true
   },
   "outputs": [],
   "source": [
    "# Traer varias filas y columnas consecutivas\n",
    "df_oro.loc[:20 , 'Apertura':'Mínimo']"
   ]
  },
  {
   "cell_type": "code",
   "execution_count": null,
   "metadata": {
    "colab": {
     "base_uri": "https://localhost:8080/",
     "height": 204
    },
    "id": "F_2TVjYhsYK0",
    "outputId": "64e7976a-78b2-4aea-b8e6-4a15774ca0ed"
   },
   "outputs": [],
   "source": [
    "# Traer varias columnas específicas, seleccionadas en cualquier orden\n",
    "\n",
    "df_select = df_oro.loc[[0,99,5,70,100],['% var.','Último' , 'Fecha']]\n",
    "df_select"
   ]
  },
  {
   "cell_type": "code",
   "execution_count": null,
   "metadata": {
    "colab": {
     "base_uri": "https://localhost:8080/"
    },
    "id": "oUHsf-jTs-Ig",
    "outputId": "49bc94a9-b33d-4ac9-b6fb-6a8e26b7a3d1"
   },
   "outputs": [],
   "source": [
    "df_select.loc[:,'Fecha']"
   ]
  },
  {
   "cell_type": "code",
   "execution_count": null,
   "metadata": {
    "colab": {
     "base_uri": "https://localhost:8080/",
     "height": 419
    },
    "id": "_LnwHQmYtiu1",
    "outputId": "bcdb79c6-97c5-49dc-dd77-b09e28f6195c"
   },
   "outputs": [],
   "source": [
    "df_oro"
   ]
  },
  {
   "cell_type": "markdown",
   "metadata": {
    "id": "R8ZfRHFEtMRK"
   },
   "source": [
    "## **Uso del iLOC**\n",
    "Se usa para extraer segmentos del DF, utilizando los **números** de las columnas o filas."
   ]
  },
  {
   "cell_type": "code",
   "execution_count": null,
   "metadata": {
    "colab": {
     "base_uri": "https://localhost:8080/"
    },
    "id": "PBYP78WytYJ5",
    "outputId": "371413d0-5604-4b46-ac9a-b20e96bc2c74"
   },
   "outputs": [],
   "source": [
    "# Todas las filas con una columna\n",
    "df_oro.iloc[:,6]"
   ]
  },
  {
   "cell_type": "code",
   "execution_count": null,
   "metadata": {
    "scrolled": true
   },
   "outputs": [],
   "source": [
    "# ¿Qué pasa cuando no uso el nombre de la columna con iloc?\n",
    "df_oro.iloc[:,'% var.']"
   ]
  },
  {
   "cell_type": "code",
   "execution_count": null,
   "metadata": {
    "colab": {
     "base_uri": "https://localhost:8080/",
     "height": 80
    },
    "id": "JvSTCMgHts-z",
    "outputId": "2857094e-d5b8-4e3c-b9f4-ac7c11367b5a"
   },
   "outputs": [],
   "source": [
    "# todas las columnas con una sola fila\n",
    "pd.DataFrame(df_oro.iloc[100 , :]).transpose()"
   ]
  },
  {
   "cell_type": "code",
   "execution_count": null,
   "metadata": {
    "colab": {
     "base_uri": "https://localhost:8080/",
     "height": 390
    },
    "id": "azH6jLPquCkq",
    "outputId": "700c10e8-aebd-4f5c-e88e-acb4bad04183"
   },
   "outputs": [],
   "source": [
    "# traer varias filas y varias columnas en orden.\n",
    "df_oro.iloc[100:,4:]"
   ]
  },
  {
   "cell_type": "code",
   "execution_count": null,
   "metadata": {
    "colab": {
     "base_uri": "https://localhost:8080/",
     "height": 204
    },
    "id": "fs9cHMlEum-t",
    "outputId": "519c35b5-f894-482e-aa60-d2bb4a3455fb"
   },
   "outputs": [],
   "source": [
    "# traer varias filas y varias columnas en un orden específico\n",
    "df_oro.iloc[[23, 99, 1, 5, 0],[5,0,2]]"
   ]
  },
  {
   "cell_type": "markdown",
   "metadata": {
    "id": "NEDiAKTTvWgN"
   },
   "source": [
    "## **Uso de AT**\n",
    "Acceder al un valor específico del DF usando los nombre de fila y columna"
   ]
  },
  {
   "cell_type": "code",
   "execution_count": null,
   "metadata": {
    "colab": {
     "base_uri": "https://localhost:8080/",
     "height": 35
    },
    "id": "u7ADaErzvLSi",
    "outputId": "bcfbf780-f2bd-4644-ac1c-5a5bf336a648"
   },
   "outputs": [],
   "source": [
    "df_oro.at[0,'Fecha']"
   ]
  },
  {
   "cell_type": "code",
   "execution_count": null,
   "metadata": {},
   "outputs": [],
   "source": [
    "'La fecha de actualización del precio del oro es: ' + df_oro.at[0,'Fecha']"
   ]
  },
  {
   "cell_type": "markdown",
   "metadata": {
    "id": "ajneP4FDvsXR"
   },
   "source": [
    "## **Uso de iAT**\n",
    "Acceder al un valor específico del DF usando los **número** de fila y columna"
   ]
  },
  {
   "cell_type": "code",
   "execution_count": null,
   "metadata": {
    "colab": {
     "base_uri": "https://localhost:8080/"
    },
    "id": "zRPVlfBhvrG5",
    "outputId": "728ada5e-4c90-4ba1-c2db-564b62fec9c1"
   },
   "outputs": [],
   "source": [
    "df_oro.iat[0,4]"
   ]
  },
  {
   "cell_type": "code",
   "execution_count": null,
   "metadata": {},
   "outputs": [],
   "source": [
    "df_oro.iat[0,4]*2"
   ]
  },
  {
   "cell_type": "markdown",
   "metadata": {
    "id": "lyQol9BawUoO"
   },
   "source": [
    "."
   ]
  },
  {
   "cell_type": "code",
   "execution_count": null,
   "metadata": {
    "colab": {
     "base_uri": "https://localhost:8080/",
     "height": 419
    },
    "id": "qW-AWSBjwWDt",
    "outputId": "c3d15413-a592-4f56-db0c-dad1e04088b2"
   },
   "outputs": [],
   "source": [
    "df_oro"
   ]
  },
  {
   "cell_type": "code",
   "execution_count": null,
   "metadata": {
    "colab": {
     "base_uri": "https://localhost:8080/"
    },
    "id": "k6dBQzO4w61u",
    "outputId": "7945f811-7033-481a-ec34-0dfeee4c8905"
   },
   "outputs": [],
   "source": [
    "df_oro['Vol.']"
   ]
  },
  {
   "cell_type": "code",
   "execution_count": null,
   "metadata": {},
   "outputs": [],
   "source": [
    "df_oro['Vol.'].replace('-','0')"
   ]
  },
  {
   "cell_type": "code",
   "execution_count": null,
   "metadata": {},
   "outputs": [],
   "source": [
    "df_oro"
   ]
  },
  {
   "cell_type": "code",
   "execution_count": null,
   "metadata": {
    "colab": {
     "base_uri": "https://localhost:8080/",
     "height": 419
    },
    "id": "cd8-sZ1uwsQx",
    "outputId": "8a89dc02-2047-48a7-f18e-b2c73706e171"
   },
   "outputs": [],
   "source": [
    "df_oro['Vol.'] = df_oro['Vol.'].replace('-','0')\n",
    "df_oro"
   ]
  },
  {
   "cell_type": "code",
   "execution_count": null,
   "metadata": {
    "colab": {
     "base_uri": "https://localhost:8080/"
    },
    "id": "bUO7q4U7xfxk",
    "outputId": "ed31c9ae-366f-4d54-f17f-ddf99ae707e7"
   },
   "outputs": [],
   "source": [
    "df_oro.at[3,'% var.']"
   ]
  },
  {
   "cell_type": "code",
   "execution_count": null,
   "metadata": {
    "colab": {
     "base_uri": "https://localhost:8080/",
     "height": 419
    },
    "id": "HNg3tRL3wlpN",
    "outputId": "f79e8bb9-d688-4394-b053-69b58a3904e1"
   },
   "outputs": [],
   "source": [
    "df_oro.at[3,'% var.'] = -0.0001\n",
    "df_oro"
   ]
  },
  {
   "cell_type": "markdown",
   "metadata": {
    "id": "ZFmhabNux2iw"
   },
   "source": [
    "## **Forma , tamaño o dimensiones de DF**"
   ]
  },
  {
   "cell_type": "code",
   "execution_count": null,
   "metadata": {
    "colab": {
     "base_uri": "https://localhost:8080/"
    },
    "id": "uJQHzGNWx9NL",
    "outputId": "f23d5524-407d-42a0-86b0-a323e692ac70"
   },
   "outputs": [],
   "source": [
    "print(df_oro.shape)\n",
    "print('Filas:',df_oro.shape[0])\n",
    "print('Columnas:',df_oro.shape[1])"
   ]
  },
  {
   "cell_type": "markdown",
   "metadata": {
    "id": "00tDL2fpylXc"
   },
   "source": [
    "## **Construir un DF en pandas desde cero**"
   ]
  },
  {
   "cell_type": "code",
   "execution_count": null,
   "metadata": {
    "colab": {
     "base_uri": "https://localhost:8080/",
     "height": 419
    },
    "id": "cx9RnGVIycid",
    "outputId": "d1723cda-143b-4bcb-bb9a-4681b8155cee"
   },
   "outputs": [],
   "source": [
    "new_col = pd.DataFrame(np.arange(df_oro.shape[0]))\n",
    "new_col"
   ]
  },
  {
   "cell_type": "code",
   "execution_count": null,
   "metadata": {},
   "outputs": [],
   "source": [
    "pd.DataFrame({'n1': [1,6,5,3,7,9] , 'n2':['a' , 'b', 'c','d', 'e','d']})"
   ]
  },
  {
   "cell_type": "code",
   "execution_count": null,
   "metadata": {
    "colab": {
     "base_uri": "https://localhost:8080/",
     "height": 297
    },
    "id": "swAnVwJbzHhB",
    "outputId": "52cd8a89-0c0b-4567-a28d-788637c60b8f"
   },
   "outputs": [],
   "source": [
    "# Construir DF a partir de una lista\n",
    "lenguajes = ['Python' , 'Java' , 'JavaScript' , 'C' , 'C++' , 'R' , 'C#' , 'Cotlin']\n",
    "\n",
    "df2 = pd.DataFrame(lenguajes)\n",
    "df2.columns = ['Lenguajes'] # Poner nombre a columnas\n",
    "df2"
   ]
  },
  {
   "cell_type": "code",
   "execution_count": null,
   "metadata": {
    "colab": {
     "base_uri": "https://localhost:8080/",
     "height": 173
    },
    "id": "FdxtkashzusB",
    "outputId": "99f8d5c0-b31a-4b92-9336-bc2b2783005d"
   },
   "outputs": [],
   "source": [
    "# Construir un DF a partir de un diccionario\n",
    "data = {\n",
    "    0 : ['Juan' , 'Sofía' , 'Carlos' , 'Martha'] ,\n",
    "    1 : [20 , 21 , 19 , 18],\n",
    "    2 : [4.5 , 3.6 , 3.3 , 4.2]\n",
    "}\n",
    "\n",
    "df3 = pd.DataFrame(data)\n",
    "df3.columns = ['Nombre' , 'Edad' , 'Nota']\n",
    "df3"
   ]
  },
  {
   "cell_type": "code",
   "execution_count": null,
   "metadata": {},
   "outputs": [],
   "source": [
    "df3.columns = ['name' , 'age' , 'cal']\n",
    "df3"
   ]
  },
  {
   "cell_type": "code",
   "execution_count": null,
   "metadata": {
    "colab": {
     "base_uri": "https://localhost:8080/",
     "height": 173
    },
    "id": "q7YBC7Au0y8s",
    "outputId": "0bad1d4e-ff7a-47f8-92d7-b41edcec94d2"
   },
   "outputs": [],
   "source": [
    "# Construir un DF a partir de un diccionario\n",
    "data2 = {\n",
    "    'Nombre2' : ['Juan' , 'Sofía' , 'Carlos' , 'Martha'] ,\n",
    "    'Edad2' : [20 , 21 , 19 , 18],\n",
    "    'Nota2' : [4.5 , 3.6 , 3.3 , 4.2]\n",
    "}\n",
    "\n",
    "df32 = pd.DataFrame(data2)\n",
    "df32"
   ]
  },
  {
   "cell_type": "code",
   "execution_count": null,
   "metadata": {
    "colab": {
     "base_uri": "https://localhost:8080/",
     "height": 173
    },
    "id": "J7yugVUd1Pi-",
    "outputId": "87fa3542-dc34-42aa-a5a9-50f223a0a3a8"
   },
   "outputs": [],
   "source": [
    "df32.index = ['Alumno1','Alumno2','Alumno3','Alumno4']\n",
    "df32"
   ]
  },
  {
   "cell_type": "code",
   "execution_count": null,
   "metadata": {
    "colab": {
     "base_uri": "https://localhost:8080/",
     "height": 35
    },
    "id": "cbJZB_DP1eXF",
    "outputId": "dfbe4864-a89b-4dd1-d331-3cc472100bec"
   },
   "outputs": [],
   "source": [
    "df32.at['Alumno2','Nombre2']"
   ]
  },
  {
   "cell_type": "code",
   "execution_count": null,
   "metadata": {
    "colab": {
     "base_uri": "https://localhost:8080/",
     "height": 35
    },
    "id": "I1jA0COv1mpe",
    "outputId": "e87d78cb-ecad-4003-f7e3-5ff88a5f0b11"
   },
   "outputs": [],
   "source": [
    "df32.iat[1 , 0]"
   ]
  },
  {
   "cell_type": "markdown",
   "metadata": {
    "id": "DOm4htaX14Qj"
   },
   "source": [
    "## **Los DF se pueden concatenar**"
   ]
  },
  {
   "cell_type": "code",
   "execution_count": null,
   "metadata": {
    "colab": {
     "base_uri": "https://localhost:8080/",
     "height": 421
    },
    "id": "rTDJEcuV2Nkn",
    "outputId": "7d4a77db-bb1d-4eef-e16a-f5379cc93695"
   },
   "outputs": [],
   "source": [
    "df4 = pd.DataFrame({\n",
    "  'A' : ['A0','A1','A2','A3'],\n",
    "  'B' : ['B0','B1','B2','B3'],\n",
    "  'C' : ['C0','C1','C2','C3'],\n",
    "  'D' : ['D0','D1','D2','D3'],\n",
    "})\n",
    "\n",
    "df5 = pd.DataFrame({\n",
    "  'A' : ['A4','A5','A6','A7'],\n",
    "  'B' : ['B4','B5','B6','B7'],\n",
    "  'C' : ['C4','C5','C6','C7'],\n",
    "  'D' : ['D4','D5','D6','D7'],\n",
    "})\n",
    "\n",
    "df6 = pd.DataFrame({\n",
    "  'A' : ['A8','A9','A10','A11'],\n",
    "  'B' : ['B8','B9','B10','B11'],\n",
    "  'C' : ['C8','C9','C10','C11'],\n",
    "  'D' : ['D8','D9','D10','D11'],\n",
    "})\n",
    "\n",
    "df7 = pd.concat([df4 , df5, df6] , axis=0) # 0: concatena hacia abajo\n",
    "                                           # 1: Concaena hacia el lado derecho\n",
    "df7"
   ]
  },
  {
   "cell_type": "code",
   "execution_count": null,
   "metadata": {
    "colab": {
     "base_uri": "https://localhost:8080/",
     "height": 173
    },
    "id": "1akjmP8L3iW6",
    "outputId": "a6e3f0f9-1076-4de9-aa9c-879cb8d00a65"
   },
   "outputs": [],
   "source": [
    "df8 = pd.DataFrame({\n",
    "    'E' : ['E1', 'E2', 'E3','E4'],\n",
    "    'F' : ['F1', 'F2', 'F3','F4'],\n",
    "    'G' : ['G1', 'G2', 'G3','G4'],\n",
    "})\n",
    "\n",
    "df9 = pd.concat([df8 , df4] , axis=1)\n",
    "df9"
   ]
  },
  {
   "cell_type": "code",
   "execution_count": null,
   "metadata": {},
   "outputs": [],
   "source": [
    "df9 = pd.concat([df8 , df4] , axis=0)\n",
    "df9"
   ]
  },
  {
   "cell_type": "markdown",
   "metadata": {
    "id": "TVf1qIoS4p5E"
   },
   "source": [
    "## **Se pueden eliminar (Drop) columna del DF**"
   ]
  },
  {
   "cell_type": "code",
   "execution_count": null,
   "metadata": {
    "colab": {
     "base_uri": "https://localhost:8080/",
     "height": 173
    },
    "id": "YNvyWnwr44pv",
    "outputId": "a5ccf32f-e630-46a3-8642-a7e1c98dd8bb"
   },
   "outputs": [],
   "source": [
    "df10 = df9.drop(['F', 'C'] , axis=1)\n",
    "df10"
   ]
  },
  {
   "cell_type": "code",
   "execution_count": null,
   "metadata": {},
   "outputs": [],
   "source": [
    "df9"
   ]
  },
  {
   "cell_type": "code",
   "execution_count": null,
   "metadata": {
    "colab": {
     "base_uri": "https://localhost:8080/",
     "height": 173
    },
    "id": "8a2Z62-05OJv",
    "outputId": "ef6879e9-59ad-450e-da8c-b7add98d86fe"
   },
   "outputs": [],
   "source": [
    "df9.drop(['A'] , axis=1 , inplace=True)\n",
    "df9"
   ]
  },
  {
   "cell_type": "code",
   "execution_count": null,
   "metadata": {},
   "outputs": [],
   "source": [
    "df9"
   ]
  },
  {
   "cell_type": "code",
   "execution_count": null,
   "metadata": {
    "colab": {
     "base_uri": "https://localhost:8080/",
     "height": 173
    },
    "id": "D7LrFFOa5ePZ",
    "outputId": "4c93b09a-6ecf-4c40-f997-52b9f2004941"
   },
   "outputs": [],
   "source": [
    "df9.drop(['F'],axis=1)"
   ]
  },
  {
   "cell_type": "code",
   "execution_count": null,
   "metadata": {},
   "outputs": [],
   "source": [
    "df9"
   ]
  },
  {
   "cell_type": "markdown",
   "metadata": {
    "id": "um42KpQo6S3Z"
   },
   "source": [
    "## **Se pueden eliminar (Drop) filas**"
   ]
  },
  {
   "cell_type": "code",
   "execution_count": null,
   "metadata": {
    "id": "B2gPf5jX5ue0"
   },
   "outputs": [],
   "source": [
    "# Eliminar filas\n",
    "df9.drop(2 , axis=0 , inplace=True)\n",
    "df9"
   ]
  },
  {
   "cell_type": "code",
   "execution_count": null,
   "metadata": {
    "colab": {
     "base_uri": "https://localhost:8080/",
     "height": 142
    },
    "id": "x9vQ-sj85_M4",
    "outputId": "20136653-4b27-4d0d-e5cd-4f1e6bbcdfdd"
   },
   "outputs": [],
   "source": []
  },
  {
   "cell_type": "markdown",
   "metadata": {
    "id": "7_VEt0od6jZm"
   },
   "source": [
    "# **Otro ejercicios con DF**"
   ]
  },
  {
   "cell_type": "code",
   "execution_count": null,
   "metadata": {
    "colab": {
     "base_uri": "https://localhost:8080/",
     "height": 514
    },
    "id": "xE923s7-62QQ",
    "outputId": "b3679a13-898f-49a9-8f1c-2525c8f44be7"
   },
   "outputs": [],
   "source": [
    "dataset = pd.read_excel('DataSets/dataset.xlsx')\n",
    "dataset"
   ]
  },
  {
   "cell_type": "code",
   "execution_count": null,
   "metadata": {
    "colab": {
     "base_uri": "https://localhost:8080/"
    },
    "id": "jeA5ntdU7FtE",
    "outputId": "957fa42b-47aa-473b-8dc6-64e44c6baac2"
   },
   "outputs": [],
   "source": [
    "dataset.shape"
   ]
  },
  {
   "cell_type": "code",
   "execution_count": null,
   "metadata": {
    "colab": {
     "base_uri": "https://localhost:8080/"
    },
    "id": "xni5axkP7L19",
    "outputId": "3eece226-a82e-400f-ee20-03ac80aea233"
   },
   "outputs": [],
   "source": [
    "dataset.columns"
   ]
  },
  {
   "cell_type": "code",
   "execution_count": null,
   "metadata": {
    "colab": {
     "base_uri": "https://localhost:8080/",
     "height": 514
    },
    "id": "WGTIdS7V7QYV",
    "outputId": "7b4b8587-dad2-41bf-d10f-07c7c8feaa06"
   },
   "outputs": [],
   "source": [
    "dataset.drop(['Unnamed: 0'],axis=1, inplace=True)\n",
    "dataset"
   ]
  },
  {
   "cell_type": "code",
   "execution_count": null,
   "metadata": {
    "colab": {
     "base_uri": "https://localhost:8080/",
     "height": 545
    },
    "id": "PDSqixqu7OM7",
    "outputId": "f69fc5da-4749-409d-cf74-c54eb6b836ea"
   },
   "outputs": [],
   "source": [
    "dataset2 = pd.read_excel('DataSets/dataset.xlsx',index_col='Id')\n",
    "dataset2.drop(['Unnamed: 0'], axis=1,inplace=True)\n",
    "dataset2"
   ]
  },
  {
   "cell_type": "code",
   "execution_count": null,
   "metadata": {
    "id": "wxqUfxW-9lG7"
   },
   "outputs": [],
   "source": []
  },
  {
   "cell_type": "code",
   "execution_count": null,
   "metadata": {
    "colab": {
     "base_uri": "https://localhost:8080/",
     "height": 80
    },
    "id": "VMRPdfcp77q5",
    "outputId": "bfac4c9a-61aa-4068-bb7d-dc1b725abb7b"
   },
   "outputs": [],
   "source": [
    "pd.DataFrame(dataset2.loc[7658908 , :]).transpose()"
   ]
  },
  {
   "cell_type": "code",
   "execution_count": null,
   "metadata": {
    "colab": {
     "base_uri": "https://localhost:8080/",
     "height": 297
    },
    "id": "k87LfDzb8mGn",
    "outputId": "dc6bf4d2-cde2-4895-a262-500e57713347"
   },
   "outputs": [],
   "source": [
    "dataset2.describe()"
   ]
  },
  {
   "cell_type": "code",
   "execution_count": null,
   "metadata": {},
   "outputs": [],
   "source": [
    "dataset2.info()"
   ]
  },
  {
   "cell_type": "code",
   "execution_count": null,
   "metadata": {},
   "outputs": [],
   "source": []
  },
  {
   "cell_type": "code",
   "execution_count": null,
   "metadata": {},
   "outputs": [],
   "source": [
    "dataset2"
   ]
  },
  {
   "cell_type": "markdown",
   "metadata": {
    "id": "kPHgVCrG9G2C"
   },
   "source": [
    "# **Limpieza de la base de datos (DataFrame)**"
   ]
  },
  {
   "cell_type": "code",
   "execution_count": null,
   "metadata": {
    "colab": {
     "base_uri": "https://localhost:8080/",
     "height": 142
    },
    "id": "lP9n4JOD9LiA",
    "outputId": "138a6a92-118f-4ca6-c8b6-ee262d78bbaf"
   },
   "outputs": [],
   "source": [
    "df_sinnan = dataset2.dropna()\n",
    "df_sinnan"
   ]
  },
  {
   "cell_type": "code",
   "execution_count": null,
   "metadata": {
    "colab": {
     "base_uri": "https://localhost:8080/",
     "height": 545
    },
    "id": "485hhXaY9opk",
    "outputId": "3d7f9817-d7b7-4791-ea8a-9d3c85b00965"
   },
   "outputs": [],
   "source": [
    "df_sinnan2 = dataset2.fillna(0)\n",
    "df_sinnan2"
   ]
  },
  {
   "cell_type": "code",
   "execution_count": null,
   "metadata": {
    "colab": {
     "base_uri": "https://localhost:8080/",
     "height": 545
    },
    "id": "ar7I9SvP-ArQ",
    "outputId": "2fce69c0-cd06-455c-d2ff-8c2696c7ecc3"
   },
   "outputs": [],
   "source": [
    "df_sinnan3 = dataset2.fillna({'Dirección':'Desconocida' , 'Teléfono':0} , inplace=True)\n",
    "df_sinnan3"
   ]
  },
  {
   "cell_type": "code",
   "execution_count": null,
   "metadata": {},
   "outputs": [],
   "source": [
    "df_sinnan2"
   ]
  },
  {
   "cell_type": "markdown",
   "metadata": {
    "id": "VmxK2OkJ-wDk"
   },
   "source": [
    "# **Búsqueda de información en el DF**"
   ]
  },
  {
   "cell_type": "code",
   "execution_count": null,
   "metadata": {
    "colab": {
     "base_uri": "https://localhost:8080/",
     "height": 545
    },
    "id": "hFC8DdjU-0fG",
    "outputId": "a2590ed2-f861-46aa-e2b4-e146f0acd60c"
   },
   "outputs": [],
   "source": [
    "dataset2"
   ]
  },
  {
   "cell_type": "code",
   "execution_count": null,
   "metadata": {
    "colab": {
     "base_uri": "https://localhost:8080/",
     "height": 421
    },
    "id": "ciKE-OMS_E40",
    "outputId": "4d97995a-098e-4bf4-9282-b0ed91bcda8e"
   },
   "outputs": [],
   "source": [
    "dataset2[dataset2['Edad'] > 30]"
   ]
  },
  {
   "cell_type": "code",
   "execution_count": null,
   "metadata": {
    "colab": {
     "base_uri": "https://localhost:8080/",
     "height": 204
    },
    "id": "XZXKxJMj_V4h",
    "outputId": "4c29b1d6-7ca5-4f40-a7e2-0af4d7df271b"
   },
   "outputs": [],
   "source": [
    "dataset2[dataset2.Edad < 30]"
   ]
  },
  {
   "cell_type": "code",
   "execution_count": null,
   "metadata": {
    "colab": {
     "base_uri": "https://localhost:8080/",
     "height": 452
    },
    "id": "g4kR0ct0_mZu",
    "outputId": "e1cc7fce-21be-4f60-ba05-6a7ccc8f5929"
   },
   "outputs": [],
   "source": [
    "dataset2[(dataset2['Facebook'] =='Si') | ~(dataset2['Twitter'] == 'Si')]"
   ]
  },
  {
   "cell_type": "code",
   "execution_count": null,
   "metadata": {
    "colab": {
     "base_uri": "https://localhost:8080/",
     "height": 173
    },
    "id": "YjPLVsFvBGVQ",
    "outputId": "40d19836-2774-42aa-f7dc-15bcebb89e25"
   },
   "outputs": [],
   "source": [
    "dataset2[dataset2['Nombre'].str.contains('m')]"
   ]
  },
  {
   "cell_type": "markdown",
   "metadata": {
    "id": "uj5ik-yKBpn6"
   },
   "source": [
    "# **Transformación de datos**"
   ]
  },
  {
   "cell_type": "code",
   "execution_count": null,
   "metadata": {
    "colab": {
     "base_uri": "https://localhost:8080/",
     "height": 545
    },
    "id": "4EZLXGPYBopu",
    "outputId": "d376fd0a-ea6f-4512-885a-98d3da939996"
   },
   "outputs": [],
   "source": [
    "from datetime import datetime \n",
    "from datetime import timedelta\n",
    "\n",
    "def year(edad):\n",
    "    now = datetime.now()\n",
    "    y = now - timedelta(days=edad*365)\n",
    "    return y.strftime('%Y')\n",
    "\n",
    "dataset2['Año_nacimiento'] = dataset2['Edad'].apply(year)\n",
    "\n",
    "dataset2"
   ]
  },
  {
   "cell_type": "code",
   "execution_count": null,
   "metadata": {
    "colab": {
     "base_uri": "https://localhost:8080/",
     "height": 545
    },
    "id": "9O4MgbgIDNyB",
    "outputId": "d0e24241-b97d-49d6-80a5-eb9f870764fb"
   },
   "outputs": [],
   "source": [
    "def operacion(col):\n",
    "    result = col['Nombre'] + ' ' + col['Apellido']\n",
    "    return result\n",
    "\n",
    "dataset2['Nombre completo'] = dataset2.apply(operacion, axis=1 )\n",
    "dataset2"
   ]
  },
  {
   "cell_type": "markdown",
   "metadata": {
    "id": "b-SDtWCnESN5"
   },
   "source": [
    "# **Usar el groupby()**"
   ]
  },
  {
   "cell_type": "code",
   "execution_count": null,
   "metadata": {
    "colab": {
     "base_uri": "https://localhost:8080/",
     "height": 142
    },
    "id": "5MAssky3EZ3c",
    "outputId": "6865920e-0179-4959-fe11-cf7b3fc0e849"
   },
   "outputs": [],
   "source": [
    "df12 = dataset2.groupby('Facebook').count()\n",
    "df12"
   ]
  },
  {
   "cell_type": "code",
   "execution_count": null,
   "metadata": {
    "colab": {
     "base_uri": "https://localhost:8080/",
     "height": 297
    },
    "id": "Hq33gnUoE4h5",
    "outputId": "ed2ae0ad-ab7b-4417-cdbe-3c8e54df2972"
   },
   "outputs": [],
   "source": [
    "dataset2.describe()"
   ]
  }
 ],
 "metadata": {
  "colab": {
   "name": "ClaseDiplomado 29-may.ipynb",
   "provenance": []
  },
  "kernelspec": {
   "display_name": "Python 3 (ipykernel)",
   "language": "python",
   "name": "python3"
  },
  "language_info": {
   "codemirror_mode": {
    "name": "ipython",
    "version": 3
   },
   "file_extension": ".py",
   "mimetype": "text/x-python",
   "name": "python",
   "nbconvert_exporter": "python",
   "pygments_lexer": "ipython3",
   "version": "3.10.9"
  }
 },
 "nbformat": 4,
 "nbformat_minor": 1
}
