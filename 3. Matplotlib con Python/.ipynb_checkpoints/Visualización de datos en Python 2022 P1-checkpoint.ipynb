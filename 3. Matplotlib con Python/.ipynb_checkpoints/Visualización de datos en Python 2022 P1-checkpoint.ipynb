{
 "cells": [
  {
   "cell_type": "markdown",
   "metadata": {},
   "source": [
    "# Visualización de datos con Python"
   ]
  },
  {
   "cell_type": "markdown",
   "metadata": {},
   "source": [
    "<img src=\"img/logo_matplotlib.png\">\n",
    "\n",
    "\n",
    "\n",
    "https://matplotlib.org/"
   ]
  },
  {
   "cell_type": "markdown",
   "metadata": {},
   "source": [
    "1. Se importa la librería <b>matplotlib</b>"
   ]
  },
  {
   "cell_type": "code",
   "execution_count": null,
   "metadata": {},
   "outputs": [],
   "source": [
    "import matplotlib.pyplot as plt"
   ]
  },
  {
   "cell_type": "markdown",
   "metadata": {},
   "source": [
    "2. Se hace la preparación de los datos a visualizar"
   ]
  },
  {
   "cell_type": "code",
   "execution_count": null,
   "metadata": {},
   "outputs": [],
   "source": [
    "import numpy as np\n",
    "\n",
    "X = np.arange(0,np.pi*2,0.1) # X = [0, 0.1 , .2, .3 , .4 , .5 , .... , 1.0 , 1.2 , 1.3... , 6.3]\n",
    "S = np.sin(X)\n",
    "C = np.cos(X)\n",
    "T = np.tan(X)"
   ]
  },
  {
   "cell_type": "code",
   "execution_count": null,
   "metadata": {
    "scrolled": true
   },
   "outputs": [],
   "source": [
    "X"
   ]
  },
  {
   "cell_type": "code",
   "execution_count": null,
   "metadata": {},
   "outputs": [],
   "source": [
    "np.sin(1.6)"
   ]
  },
  {
   "cell_type": "code",
   "execution_count": null,
   "metadata": {},
   "outputs": [],
   "source": [
    "np.pi/2"
   ]
  },
  {
   "cell_type": "code",
   "execution_count": null,
   "metadata": {},
   "outputs": [],
   "source": [
    "S"
   ]
  },
  {
   "cell_type": "code",
   "execution_count": null,
   "metadata": {},
   "outputs": [],
   "source": [
    "print('Tamaño de las X: ', X.shape)\n",
    "print('Tamaño de las sin(X): ', S.shape)\n",
    "print('Tamaño de las cos(X): ', C.shape)\n",
    "print('Tamaño de las tan(X): ', T.shape)"
   ]
  },
  {
   "cell_type": "code",
   "execution_count": null,
   "metadata": {},
   "outputs": [],
   "source": []
  },
  {
   "cell_type": "code",
   "execution_count": null,
   "metadata": {},
   "outputs": [],
   "source": []
  },
  {
   "cell_type": "markdown",
   "metadata": {},
   "source": [
    "3. Tipo de gráfico y visualización "
   ]
  },
  {
   "cell_type": "code",
   "execution_count": null,
   "metadata": {},
   "outputs": [],
   "source": [
    "plt.plot(X , S) # plt.plot( el vector de las X (eje x) , el resultado de la función sin(X) (eje y))\n",
    "plt.show()"
   ]
  },
  {
   "cell_type": "markdown",
   "metadata": {},
   "source": [
    "Se pueden poner títulos, etiquetas de los ejes y leyendas de la serie, con las instrucciones $plt.title()$, $plt.xlabel()$ , $plt.ylabel()$ y $plt.legend()$, respectivamente.\n",
    "\n",
    "<i>Nota: </i> para mostrar la leyenda de la seria, el $plt.plot()$ debe tener la $label$ asignado."
   ]
  },
  {
   "cell_type": "code",
   "execution_count": null,
   "metadata": {},
   "outputs": [],
   "source": [
    "plt.plot(X , S , label=\"Sin(x)\")\n",
    "plt.title(\"Gráfica del Seno\")\n",
    "plt.xlabel('X (Radianes)')\n",
    "plt.ylabel('Sin(X)')\n",
    "plt.legend()\n",
    "plt.show()"
   ]
  },
  {
   "cell_type": "code",
   "execution_count": null,
   "metadata": {},
   "outputs": [],
   "source": [
    "plt.plot(X , C , label=\"Cos(X)\")\n",
    "plt.title(\"Gráfica del Coseno\")\n",
    "plt.xlabel('X (Radianes)')\n",
    "plt.ylabel('Cos(X)')\n",
    "plt.legend()\n",
    "plt.show()"
   ]
  },
  {
   "cell_type": "markdown",
   "metadata": {},
   "source": [
    "Se le pueden dar color a las gráficas y el tipo de línea"
   ]
  },
  {
   "cell_type": "code",
   "execution_count": null,
   "metadata": {},
   "outputs": [],
   "source": [
    "plt.plot(X , C , label=\"Cos(x)\", color=\"red\", linewidth=2.5, linestyle='dashed')\n",
    "#'-', '--', '-.', ':', 'None', ' ', '', 'solid', 'dashed', 'dashdot', 'dotted'\n",
    "plt.title(\"Gráfica del Coseno\")\n",
    "plt.xlabel('X (Radianes)')\n",
    "plt.ylabel('Cos(x)')\n",
    "plt.legend()\n",
    "plt.show()"
   ]
  },
  {
   "cell_type": "code",
   "execution_count": null,
   "metadata": {},
   "outputs": [],
   "source": []
  },
  {
   "cell_type": "markdown",
   "metadata": {},
   "source": [
    "Se pueden modificar los límites de los ejes con las instrucción $plt.xlim()$  y $plt.ylim()$"
   ]
  },
  {
   "cell_type": "code",
   "execution_count": null,
   "metadata": {},
   "outputs": [],
   "source": [
    "plt.plot(X , C , label=\"Cos(x)\")\n",
    "plt.title(\"Gráfica del Coseno\")\n",
    "plt.xlabel('X (Radianes)')\n",
    "plt.ylabel('Cos(x)')\n",
    "plt.ylim(-2, 2)\n",
    "plt.xlim(-1, 7)\n",
    "plt.legend()\n",
    "plt.show()\n"
   ]
  },
  {
   "cell_type": "markdown",
   "metadata": {},
   "source": [
    "Se pueden mostrar varias series (gráficas) en el mismo $plot$"
   ]
  },
  {
   "cell_type": "code",
   "execution_count": null,
   "metadata": {},
   "outputs": [],
   "source": [
    "plt.plot(X , S)\n",
    "plt.plot(X , C)\n",
    "plt.show()"
   ]
  },
  {
   "cell_type": "code",
   "execution_count": null,
   "metadata": {},
   "outputs": [],
   "source": [
    "plt.plot(X, C, color=\"blue\", linewidth=2.5, linestyle=\"--\", label=\"Cos(x)\")\n",
    "plt.plot(X, S, color=\"cyan\",  linewidth=4.5, linestyle=\"-\", label=\"Sin(x)\")\n",
    "plt.legend()\n",
    "plt.show()"
   ]
  },
  {
   "cell_type": "code",
   "execution_count": null,
   "metadata": {},
   "outputs": [],
   "source": []
  },
  {
   "cell_type": "code",
   "execution_count": null,
   "metadata": {},
   "outputs": [],
   "source": [
    "fig, axs = plt.subplots(2, 2, figsize=(8, 5), tight_layout=True)\n",
    "axs[0,0].plot(X, S, color=\"blue\", linestyle=\"-\", label=\"Sen\")\n",
    "axs[0,0].legend()\n",
    "axs[0,0].set_title(\"Gráfica del Seno\")\n",
    "axs[0,0].set_xlabel(\"X (radians)\")\n",
    "axs[0,0].set_ylabel(\"Sin(x)\")\n",
    "\n",
    "axs[0,1].plot(X, C, color=\"red\", linewidth=2.5, linestyle=\"--\", label=\"Cos\")\n",
    "axs[0,1].legend()\n",
    "axs[0,1].set_title(\"Gráfica del Cos\")\n",
    "axs[0,1].set_xlabel(\"X (radians)\")\n",
    "axs[0,1].set_ylabel(\"Cos(x)\")\n",
    "\n",
    "axs[1,0].plot(X, T, color=\"green\", linewidth=2.5, linestyle=\"-.\", label=\"Tan\")\n",
    "\n",
    "axs[1,1].plot(X, C, color=\"black\", marker='*', linewidth=2.5, linestyle=\":\", label=\"Sen\")\n"
   ]
  },
  {
   "cell_type": "code",
   "execution_count": null,
   "metadata": {},
   "outputs": [],
   "source": []
  },
  {
   "cell_type": "markdown",
   "metadata": {},
   "source": [
    "### Otro ejemplo"
   ]
  },
  {
   "cell_type": "markdown",
   "metadata": {},
   "source": [
    "Gráfico que relaciona el nombre de la persona ahorradora y lo que ahorra por mes"
   ]
  },
  {
   "cell_type": "code",
   "execution_count": null,
   "metadata": {},
   "outputs": [],
   "source": [
    "import numpy as np\n",
    "import matplotlib.pyplot as plt\n",
    "\n",
    "meses = ['Mayo', 'Junio', 'Julio', 'Agosto', 'Septiembre', 'Octubre']\n",
    "mapeado = range(len(meses))\n",
    "\n",
    "plt.plot(np.random.randint(100, size=[6]), 'rx-', label=\"Pedro\")\n",
    "plt.plot(np.random.randint(100, size=[6]), 'gd--', label=\"Marta\")\n",
    "plt.plot(np.random.randint(100, size=[6]), 'y2:',label=\"Ana\")\n",
    "# 'o', 'o-' ,'x','*'\n",
    "plt.xticks(mapeado, meses)\n",
    "plt.title(\"Ahorros del primer semestre\")\n",
    "plt.xlabel(\"Meses\")\n",
    "plt.ylabel(\"Cantidad en $\")\n",
    "plt.legend()\n",
    "plt.show()"
   ]
  },
  {
   "cell_type": "code",
   "execution_count": null,
   "metadata": {},
   "outputs": [],
   "source": []
  },
  {
   "cell_type": "markdown",
   "metadata": {},
   "source": [
    "Datos para otras gráficas"
   ]
  },
  {
   "cell_type": "code",
   "execution_count": null,
   "metadata": {},
   "outputs": [],
   "source": [
    "data = {'Manzana': 10, 'Naranja': 15, 'Limón': 5, 'Mango': 20}\n",
    "names = list(data.keys())\n",
    "values = list(data.values())"
   ]
  },
  {
   "cell_type": "code",
   "execution_count": null,
   "metadata": {},
   "outputs": [],
   "source": [
    "names"
   ]
  },
  {
   "cell_type": "code",
   "execution_count": null,
   "metadata": {},
   "outputs": [],
   "source": [
    "values"
   ]
  },
  {
   "cell_type": "markdown",
   "metadata": {},
   "source": [
    "### Gráfico en barras"
   ]
  },
  {
   "cell_type": "code",
   "execution_count": null,
   "metadata": {},
   "outputs": [],
   "source": [
    "plt.bar(names, values)\n",
    "plt.show()"
   ]
  },
  {
   "cell_type": "markdown",
   "metadata": {},
   "source": [
    "Se le puede dar forma también a los gráficos en barra"
   ]
  },
  {
   "cell_type": "code",
   "execution_count": null,
   "metadata": {},
   "outputs": [],
   "source": [
    "plt.bar(names, values , label='Frutas')\n",
    "plt.title(\"Gráfico en Barras\")\n",
    "plt.xlabel(\"Frutas\")\n",
    "plt.ylabel(\"Cantidades\")\n",
    "plt.legend()\n",
    "plt.show()"
   ]
  },
  {
   "cell_type": "code",
   "execution_count": null,
   "metadata": {},
   "outputs": [],
   "source": [
    "plt.bar(names, values , label='Frutas', color='orange')\n",
    "plt.title(\"Gráfico en Barras\")\n",
    "plt.xlabel(\"Frutas\")\n",
    "plt.ylabel(\"Cantidades\")\n",
    "plt.legend()\n",
    "plt.show()"
   ]
  },
  {
   "cell_type": "markdown",
   "metadata": {},
   "source": [
    "Barras horizontales"
   ]
  },
  {
   "cell_type": "code",
   "execution_count": null,
   "metadata": {},
   "outputs": [],
   "source": [
    "plt.barh(names, values , label='Frutas', color='green')\n",
    "plt.title(\"Gráfico en Barras\")\n",
    "plt.xlabel(\"Frutas\")\n",
    "plt.ylabel(\"Cantidades\")\n",
    "plt.legend()\n",
    "plt.show()"
   ]
  },
  {
   "cell_type": "code",
   "execution_count": null,
   "metadata": {},
   "outputs": [],
   "source": []
  },
  {
   "cell_type": "markdown",
   "metadata": {},
   "source": [
    "### Gráfico de dispersión de puntos"
   ]
  },
  {
   "cell_type": "code",
   "execution_count": null,
   "metadata": {},
   "outputs": [],
   "source": [
    "fig, ax = plt.subplots()\n",
    "ax.scatter(names, values)\n",
    "ax.set_title('Gráfica de puntos')\n",
    "ax.set_xlabel('Frutas')\n",
    "ax.set_ylabel('Cantidades')\n",
    "plt.show()"
   ]
  },
  {
   "cell_type": "code",
   "execution_count": null,
   "metadata": {},
   "outputs": [],
   "source": []
  },
  {
   "cell_type": "code",
   "execution_count": null,
   "metadata": {},
   "outputs": [],
   "source": [
    "etiquetas_X = ['Apple','Orange','Lemon','Lime']\n",
    "plt.scatter(names, values)\n",
    "plt.title('Gráfica de puntos')\n",
    "plt.xlabel('Frutas')\n",
    "plt.ylabel('Cantidades')\n",
    "plt.show()"
   ]
  },
  {
   "cell_type": "code",
   "execution_count": null,
   "metadata": {},
   "outputs": [],
   "source": [
    "etiquetas_X = ['Apple','Orange','Lemon','Lime']\n",
    "fig, ax = plt.subplots()\n",
    "ax.scatter(names, values)\n",
    "ax.set_title('Gráfica de puntos')\n",
    "ax.set_xlabel('Frutas')\n",
    "ax.set_ylabel('Cantidades')\n",
    "ax.set_xticklabels(etiquetas_X) # se hace el cambio de las nombres de las variables\n",
    "plt.show()"
   ]
  },
  {
   "cell_type": "markdown",
   "metadata": {},
   "source": [
    "### Gráfico de Líneas"
   ]
  },
  {
   "cell_type": "code",
   "execution_count": null,
   "metadata": {},
   "outputs": [],
   "source": [
    "fig, ax = plt.subplots()\n",
    "ax.plot(names, values)\n",
    "ax.set_title('Gráfica de Líneas')\n",
    "ax.set_xlabel('Frutas')\n",
    "ax.set_ylabel('Cantidades')\n",
    "plt.show()"
   ]
  },
  {
   "cell_type": "code",
   "execution_count": null,
   "metadata": {},
   "outputs": [],
   "source": []
  },
  {
   "cell_type": "markdown",
   "metadata": {},
   "source": [
    "Se pueden graficar varios plot usando otra sintaxis"
   ]
  },
  {
   "cell_type": "code",
   "execution_count": null,
   "metadata": {},
   "outputs": [],
   "source": [
    "fig, axs = plt.subplots(1, 3, figsize=(9, 3), sharey=True)\n",
    "axs[0].bar(names, values)\n",
    "axs[1].scatter(names, values)\n",
    "axs[2].plot(names, values)\n",
    "fig.suptitle('Múltiples gráficos en una figura')\n",
    "plt.show()"
   ]
  },
  {
   "cell_type": "code",
   "execution_count": null,
   "metadata": {},
   "outputs": [],
   "source": [
    "fig, axs = plt.subplots(1, 3, figsize=(9, 3), sharey=True)\n",
    "axs[0].bar(names, values)\n",
    "plt.setp(axs[0].get_xticklabels(), rotation=90)\n",
    "axs[1].scatter(names, values)\n",
    "plt.setp(axs[1].get_xticklabels(), rotation=45)\n",
    "axs[2].plot(names, values)\n",
    "fig.suptitle('Múltiples gráficos en una figura')\n",
    "plt.show()"
   ]
  },
  {
   "cell_type": "code",
   "execution_count": null,
   "metadata": {},
   "outputs": [],
   "source": [
    "fig, axs = plt.subplots(3,1, figsize=(9, 9), sharey=True)\n",
    "axs[0].bar(names, values)\n",
    "plt.setp(axs[0].get_xticklabels(), rotation=90)\n",
    "axs[1].scatter(names, values)\n",
    "plt.setp(axs[1].get_xticklabels(), rotation=45)\n",
    "axs[2].plot(names, values)\n",
    "fig.suptitle('Múltiples gráficos en una figura')\n",
    "plt.show()"
   ]
  },
  {
   "cell_type": "code",
   "execution_count": null,
   "metadata": {},
   "outputs": [],
   "source": []
  },
  {
   "cell_type": "markdown",
   "metadata": {},
   "source": [
    "### Gráfico torta o Pie"
   ]
  },
  {
   "cell_type": "code",
   "execution_count": null,
   "metadata": {},
   "outputs": [],
   "source": [
    "# Etiquetas\n",
    "names"
   ]
  },
  {
   "cell_type": "code",
   "execution_count": null,
   "metadata": {},
   "outputs": [],
   "source": [
    "# Datos\n",
    "values"
   ]
  },
  {
   "cell_type": "code",
   "execution_count": null,
   "metadata": {},
   "outputs": [],
   "source": [
    "(values[0]/sum(values))*100"
   ]
  },
  {
   "cell_type": "code",
   "execution_count": null,
   "metadata": {},
   "outputs": [],
   "source": [
    "plt.pie(values)\n",
    "plt.show()"
   ]
  },
  {
   "cell_type": "markdown",
   "metadata": {},
   "source": [
    "Se le puede dar forma al pie"
   ]
  },
  {
   "cell_type": "code",
   "execution_count": null,
   "metadata": {},
   "outputs": [],
   "source": [
    "plt.pie(values, labels=names , autopct=\"%0.2d\")\n",
    "plt.show()"
   ]
  },
  {
   "cell_type": "markdown",
   "metadata": {},
   "source": [
    "Se le pueden dar colores al pie"
   ]
  },
  {
   "cell_type": "code",
   "execution_count": null,
   "metadata": {},
   "outputs": [],
   "source": [
    "colores = [\"#EE6055\",\"#60D394\",\"#AAF683\",\"#FFD97D\"]\n",
    "\n",
    "plt.pie(values, labels=names , autopct=\"%0.1d\" , colors=colores)\n",
    "plt.show()"
   ]
  },
  {
   "cell_type": "markdown",
   "metadata": {},
   "source": [
    "Se puede hacer un explode de los pedasos de pie"
   ]
  },
  {
   "cell_type": "code",
   "execution_count": null,
   "metadata": {},
   "outputs": [],
   "source": [
    "colores = [\"#EE6055\",\"#60D394\",\"#AAF683\",\"#FFD97D\"]\n",
    "\n",
    "desfase = (0, 0, 0, 0.1)\n",
    "\n",
    "plt.pie(values, labels=names , autopct=\"%0.1d\" , colors=colores, explode=desfase , shadow=True)\n",
    "plt.show()"
   ]
  }
 ],
 "metadata": {
  "kernelspec": {
   "display_name": "Python 3 (ipykernel)",
   "language": "python",
   "name": "python3"
  },
  "language_info": {
   "codemirror_mode": {
    "name": "ipython",
    "version": 3
   },
   "file_extension": ".py",
   "mimetype": "text/x-python",
   "name": "python",
   "nbconvert_exporter": "python",
   "pygments_lexer": "ipython3",
   "version": "3.10.9"
  }
 },
 "nbformat": 4,
 "nbformat_minor": 4
}
